{
 "cells": [
  {
   "cell_type": "markdown",
   "source": [
    "## Imports"
   ],
   "metadata": {
    "collapsed": false
   }
  },
  {
   "cell_type": "code",
   "execution_count": 12,
   "metadata": {
    "collapsed": true
   },
   "outputs": [],
   "source": [
    "import re\n",
    "import copy\n",
    "import pandas as pd\n",
    "import signal\n",
    "import os\n",
    "import platform\n",
    "import logging\n",
    "import json\n",
    "import requests\n",
    "import base64\n",
    "import sys\n",
    "import time\n",
    "import subprocess\n"
   ]
  },
  {
   "cell_type": "markdown",
   "source": [
    "## Init Java parser"
   ],
   "metadata": {
    "collapsed": false
   }
  },
  {
   "cell_type": "code",
   "execution_count": 13,
   "outputs": [
    {
     "name": "stdout",
     "output_type": "stream",
     "text": [
      "Проверка, если парсер заупущен на http://localhost:8083/\n",
      "Запуск document-parser на 8083 порту, если что-то пойдет не так, то руками УБЕЙТЕ java процесс\n",
      "Проверка соединения\n",
      "Готово\n",
      "Запустился успешно\n"
     ]
    }
   ],
   "source": [
    "s = [\n",
    "    \"java\",\n",
    "    \"-jar\",\n",
    "    f\"document-parser-1.6.7.jar\",\n",
    "    \"--server.port=8083\"\n",
    "]\n",
    "headers = {\n",
    "    'Content-type': 'application/json',\n",
    "    'Accept': 'application/json; text/plain'\n",
    "}\n",
    "\n",
    "parser_url = \"http://localhost:8083/\"\n",
    "java_subprocess = None\n",
    "\n",
    "docs = 'C:\\\\Users\\\\tyshchuk\\\\Downloads\\\\Трудовой_кодекс_Российской_Федерации_от_30_12_2001_N_197_ФЗ.docx'\n",
    "try:\n",
    "    i = 1\n",
    "    try:\n",
    "        print(f\"Проверка, если парсер заупущен на {parser_url}\")\n",
    "        response = requests.post(\n",
    "            f\"{parser_url}status\",\n",
    "            headers=headers\n",
    "        )\n",
    "    except Exception as e:\n",
    "        print(\n",
    "            \"Запуск document-parser на 8083 порту, если что-то пойдет не так, то руками УБЕЙТЕ java процесс\"\n",
    "        )\n",
    "        java_subprocess = subprocess.Popen(s, creationflags=subprocess.CREATE_NEW_PROCESS_GROUP,\n",
    "                                           stdout=subprocess.PIPE, encoding=\"utf-8\")\n",
    "        time.sleep(2)\n",
    "        while True:\n",
    "            # time.sleep(0.1)\n",
    "            output_log_spring = java_subprocess.stdout.readline()\n",
    "            sys.stdout.write(\"\\rПроверка соединения\")\n",
    "            sys.stdout.flush()\n",
    "            i += 1\n",
    "            if output_log_spring.find(\"Started DocumentParserService\") != -1:\n",
    "                print(\"\\nГотово\")\n",
    "                java_subprocess.stdout.close()\n",
    "                break\n",
    "            if i > 31:\n",
    "                raise Exception(\"Не удалось получить доступ к ранее запущенному парсеру\")\n",
    "    print(\"Запустился успешно\")\n",
    "\n",
    "    try:\n",
    "        file = open(docs, 'rb')\n",
    "        encoded_string = base64.b64encode(file.read())\n",
    "        encoded_string = str(encoded_string)[2:-1]\n",
    "    except Exception as e:\n",
    "        print(f\"при конвертации в base64, исключение = {e.msg}\")\n",
    "        print(\"=\"*200)\n",
    "\n",
    "    doc_type = docs.split(\".\")[-1].upper()\n",
    "    resArr = []\n",
    "    document = []\n",
    "\n",
    "    response = requests.post(\n",
    "        f\"{parser_url}document-parser\",\n",
    "        data=json.dumps({\n",
    "            \"base64Content\": encoded_string,\n",
    "            \"documentFileType\": doc_type\n",
    "        }),\n",
    "        headers=headers\n",
    "    )\n",
    "    try:\n",
    "        resArr = response.json()['documents']\n",
    "    except Exception as e:\n",
    "        print(f\"Ответ от парсера {response.json()}\")\n",
    "        print(\"=\"*200)\n",
    "\n",
    "except Exception as e:\n",
    "    logging.exception(e)\n",
    "finally:\n",
    "    #Смерть java процессу!\n",
    "    if java_subprocess is not None:\n",
    "        if platform.system() == 'Windows':\n",
    "            subprocess.run(\"TASKKILL /F /PID {pid} /T\".format(pid=java_subprocess.pid))\n",
    "        elif platform.system() == 'Linux':\n",
    "            os.kill(java_subprocess.pid, signal.SIGTERM)\n",
    "        else:\n",
    "            print('Не известная платформа, убейте в ручную процесс java')"
   ],
   "metadata": {
    "collapsed": false
   }
  },
  {
   "cell_type": "code",
   "execution_count": 14,
   "outputs": [
    {
     "data": {
      "text/plain": "'Целями трудового законодательства являются установление государственных гарантий трудовых прав и свобод граждан, создание благоприятных условий труда, защита прав и интересов работников и работодателей.\\r\\nОсновными задачами трудового законодательства являются создание необходимых правовых условий для достижения оптимального согласования интересов сторон трудовых отношений, интересов государства, а также правовое регулирование трудовых отношений и иных непосредственно связанных с ними отношений по:\\r\\nорганизации труда и управлению трудом;\\r\\nтрудоустройству у данного работодателя;\\r\\nподготовке и дополнительному профессиональному образованию работников непосредственно у данного работодателя;\\r\\n(в ред. Федерального закона от 02.07.2013 N 185-ФЗ)\\r\\nсоциальному партнерству, ведению коллективных переговоров, заключению коллективных договоров и соглашений;\\r\\nучастию работников и профессиональных союзов в установлении условий труда и применении трудового законодательства в предусмотренных законом случаях;\\r\\nматериальной ответственности работодателей и работников в сфере труда;\\r\\nгосударственному контролю (надзору), профсоюзному контролю за соблюдением трудового законодательства (включая законодательство об охране труда) и иных нормативных правовых актов, содержащих нормы трудового права;\\r\\n(в ред. Федеральных законов от 30.06.2006 N 90-ФЗ, от 18.07.2011 N 242-ФЗ)\\r\\nразрешению трудовых споров;\\r\\nобязательному социальному страхованию в случаях, предусмотренных федеральными законами.\\r\\n(абзац введен Федеральным законом от 30.06.2006 N 90-ФЗ)\\r\\n'"
     },
     "execution_count": 14,
     "metadata": {},
     "output_type": "execute_result"
    }
   ],
   "source": [
    "resArr[0]['paragraphs'][6]['paragraphBody']['text']"
   ],
   "metadata": {
    "collapsed": false
   }
  },
  {
   "cell_type": "markdown",
   "source": [
    "## Cleanup"
   ],
   "metadata": {
    "collapsed": false
   }
  },
  {
   "cell_type": "code",
   "execution_count": 15,
   "outputs": [],
   "source": [
    "note_cleanup_re: re.Pattern = re.compile(r'КонсультантПлюс\\: примечание\\.\\n.*?\\n', flags=re.MULTILINE)\n",
    "ref_cleanup_re: re.Pattern = re.compile(r'\\(.*N\\s+\\d+-ФЗ.*?\\)\\s')\n",
    "\n",
    "for paragraph in resArr[0]['paragraphs']:\n",
    "    paragraph['paragraphBody']['text'] = note_cleanup_re.sub('', paragraph['paragraphBody']['text'])\n",
    "    paragraph['paragraphBody']['text'] = ref_cleanup_re.sub('', paragraph['paragraphBody']['text'])"
   ],
   "metadata": {
    "collapsed": false
   }
  },
  {
   "cell_type": "markdown",
   "source": [
    "## Splitting paragraphs"
   ],
   "metadata": {
    "collapsed": false
   }
  },
  {
   "cell_type": "code",
   "execution_count": 16,
   "outputs": [],
   "source": [
    "regex = re.compile('(\\:)((.|\\s)*?)(\\.)')"
   ],
   "metadata": {
    "collapsed": false
   }
  },
  {
   "cell_type": "code",
   "execution_count": 17,
   "outputs": [],
   "source": [
    "buffer = []\n",
    "\n",
    "for paragraph in resArr[0]['paragraphs'][3:]:\n",
    "    findall: re.Pattern[str] = regex.findall(paragraph['paragraphBody']['text'])\n",
    "\n",
    "    if len(findall) == 0:\n",
    "        buffer.append(copy.deepcopy(paragraph))\n",
    "    else:\n",
    "        copy_paragraph = copy.deepcopy(paragraph)\n",
    "        copy_paragraph['paragraphBody']['text'] = copy.copy(paragraph['paragraphBody']['text'].split(findall[0])[0])\n",
    "        buffer.append(copy_paragraph)\n",
    "        for text in findall:\n",
    "            text = text[1]\n",
    "            copy_paragraph = copy.deepcopy(paragraph)\n",
    "            list_of_texts: str = text.split(';')\n",
    "            for split_text in list_of_texts:\n",
    "                copy_paragraph['paragraphBody']['text'] = copy.copy(split_text)\n",
    "                buffer.append(copy_paragraph)\n",
    "        if len(findall) > 1:\n",
    "            copy_paragraph = copy.deepcopy(paragraph)\n",
    "        copy_paragraph['paragraphBody']['text'] = copy.copy(paragraph['paragraphBody']['text'].split(findall[-1])[-1])\n",
    "        buffer.append(copy_paragraph)"
   ],
   "metadata": {
    "collapsed": false
   }
  },
  {
   "cell_type": "code",
   "execution_count": 20,
   "outputs": [],
   "source": [
    "import warnings\n",
    "\n",
    "warnings.filterwarnings(\"ignore\", category=DeprecationWarning)\n",
    "warnings.simplefilter(action='ignore', category=FutureWarning)"
   ],
   "metadata": {
    "collapsed": false
   }
  },
  {
   "cell_type": "code",
   "execution_count": null,
   "outputs": [],
   "source": [
    "party = ''\n",
    "section = ''\n",
    "section2 = ''\n",
    "chapter = ''\n",
    "chapter2 = ''\n",
    "# article = ''\n",
    "\n",
    "df = pd.DataFrame(\n",
    "    columns=['party', 'section_number', 'section_text', 'chapter_number', 'chapter_text', 'article_number',\n",
    "             'article_text', 'text'])\n",
    "for paragraph in resArr[0]['paragraphs'][3:]:\n",
    "    if str(paragraph['paragraphHeader']['text']).startswith('ЧАСТЬ '):\n",
    "        party = paragraph['paragraphHeader']['text']\n",
    "        continue\n",
    "    if str(paragraph['paragraphHeader']['text']).startswith('Раздел '):\n",
    "        section, section2 = paragraph['paragraphHeader']['text'].split(\". \", 1)\n",
    "\n",
    "        continue\n",
    "    if str(paragraph['paragraphHeader']['text']).startswith('Глава '):\n",
    "        chapter, chapter2 = paragraph['paragraphHeader']['text'].split(\". \", 1)\n",
    "        continue\n",
    "    if str(paragraph['paragraphHeader']['text']).startswith('Статья'):\n",
    "        article = paragraph['paragraphHeader']['text'].split(\". \", 1)\n",
    "        df = df.append({\n",
    "            'party': party,\n",
    "            'section_number': section,\n",
    "            'section_text': section2,\n",
    "            'chapter_number': chapter,\n",
    "            'chapter_text': chapter2,\n",
    "            'article_number': article[0],\n",
    "            'article_text': article[1],\n",
    "            'text': paragraph['paragraphBody']['text']\n",
    "        }, ignore_index=True)\n",
    "        continue\n"
   ],
   "metadata": {
    "collapsed": false,
    "pycharm": {
     "is_executing": true
    }
   }
  },
  {
   "cell_type": "code",
   "execution_count": 42,
   "outputs": [
    {
     "data": {
      "text/plain": "            party section_number              section_text chapter_number  \\\n0    ЧАСТЬ ПЕРВАЯ       Раздел I           ОБЩИЕ ПОЛОЖЕНИЯ        Глава 1   \n1    ЧАСТЬ ПЕРВАЯ       Раздел I           ОБЩИЕ ПОЛОЖЕНИЯ        Глава 1   \n2    ЧАСТЬ ПЕРВАЯ       Раздел I           ОБЩИЕ ПОЛОЖЕНИЯ        Глава 1   \n3    ЧАСТЬ ПЕРВАЯ       Раздел I           ОБЩИЕ ПОЛОЖЕНИЯ        Глава 1   \n4    ЧАСТЬ ПЕРВАЯ       Раздел I           ОБЩИЕ ПОЛОЖЕНИЯ        Глава 1   \n..            ...            ...                       ...            ...   \n522  ЧАСТЬ ШЕСТАЯ     Раздел XIV  ЗАКЛЮЧИТЕЛЬНЫЕ ПОЛОЖЕНИЯ       Глава 62   \n523  ЧАСТЬ ШЕСТАЯ     Раздел XIV  ЗАКЛЮЧИТЕЛЬНЫЕ ПОЛОЖЕНИЯ       Глава 62   \n524  ЧАСТЬ ШЕСТАЯ     Раздел XIV  ЗАКЛЮЧИТЕЛЬНЫЕ ПОЛОЖЕНИЯ       Глава 62   \n525  ЧАСТЬ ШЕСТАЯ     Раздел XIV  ЗАКЛЮЧИТЕЛЬНЫЕ ПОЛОЖЕНИЯ       Глава 62   \n526  ЧАСТЬ ШЕСТАЯ     Раздел XIV  ЗАКЛЮЧИТЕЛЬНЫЕ ПОЛОЖЕНИЯ       Глава 62   \n\n                                          chapter_text article_number  \\\n0           ОСНОВНЫЕ НАЧАЛА ТРУДОВОГО ЗАКОНОДАТЕЛЬСТВА       Статья 1   \n1           ОСНОВНЫЕ НАЧАЛА ТРУДОВОГО ЗАКОНОДАТЕЛЬСТВА       Статья 2   \n2           ОСНОВНЫЕ НАЧАЛА ТРУДОВОГО ЗАКОНОДАТЕЛЬСТВА       Статья 3   \n3           ОСНОВНЫЕ НАЧАЛА ТРУДОВОГО ЗАКОНОДАТЕЛЬСТВА       Статья 4   \n4           ОСНОВНЫЕ НАЧАЛА ТРУДОВОГО ЗАКОНОДАТЕЛЬСТВА       Статья 5   \n..                                                 ...            ...   \n522  ОТВЕТСТВЕННОСТЬ ЗА НАРУШЕНИЕ\\r\\nТРУДОВОГО ЗАКО...     Статья 420   \n523  ОТВЕТСТВЕННОСТЬ ЗА НАРУШЕНИЕ\\r\\nТРУДОВОГО ЗАКО...     Статья 421   \n524  ОТВЕТСТВЕННОСТЬ ЗА НАРУШЕНИЕ\\r\\nТРУДОВОГО ЗАКО...     Статья 422   \n525  ОТВЕТСТВЕННОСТЬ ЗА НАРУШЕНИЕ\\r\\nТРУДОВОГО ЗАКО...     Статья 423   \n526  ОТВЕТСТВЕННОСТЬ ЗА НАРУШЕНИЕ\\r\\nТРУДОВОГО ЗАКО...     Статья 424   \n\n                                          article_text  \\\n0             Цели и задачи трудового законодательства   \n1    Основные принципы правового регулирования труд...   \n2               Запрещение дискриминации в сфере труда   \n3                     Запрещение принудительного труда   \n4    Трудовое законодательство и иные акты, содержа...   \n..                                                 ...   \n522       Сроки введения в действие настоящего Кодекса   \n523  Порядок и сроки введения минимального размера ...   \n524  Признание утратившими силу отдельных законодат...   \n525  Применение законов и иных нормативных правовых...   \n526  Применение настоящего Кодекса к правоотношения...   \n\n                                                  text  \n0    Целями трудового законодательства являются уст...  \n1    Исходя из общепризнанных принципов и норм межд...  \n2    Каждый имеет равные возможности для реализации...  \n3    Принудительный труд запрещен.\\r\\nПринудительны...  \n4    (в ред. Федерального закона от 30.06.2006 N 90...  \n..                                                 ...  \n522  Настоящий Кодекс вводится в действие с 1 февра...  \n523  (в ред. Федерального закона от 20.04.2007 N 54...  \n524  Признать утратившими силу с 1 февраля 2002 год...  \n525  Впредь до приведения законов и иных нормативны...  \n526  Настоящий Кодекс применяется к правоотношениям...  \n\n[527 rows x 8 columns]",
      "text/html": "<div>\n<style scoped>\n    .dataframe tbody tr th:only-of-type {\n        vertical-align: middle;\n    }\n\n    .dataframe tbody tr th {\n        vertical-align: top;\n    }\n\n    .dataframe thead th {\n        text-align: right;\n    }\n</style>\n<table border=\"1\" class=\"dataframe\">\n  <thead>\n    <tr style=\"text-align: right;\">\n      <th></th>\n      <th>party</th>\n      <th>section_number</th>\n      <th>section_text</th>\n      <th>chapter_number</th>\n      <th>chapter_text</th>\n      <th>article_number</th>\n      <th>article_text</th>\n      <th>text</th>\n    </tr>\n  </thead>\n  <tbody>\n    <tr>\n      <th>0</th>\n      <td>ЧАСТЬ ПЕРВАЯ</td>\n      <td>Раздел I</td>\n      <td>ОБЩИЕ ПОЛОЖЕНИЯ</td>\n      <td>Глава 1</td>\n      <td>ОСНОВНЫЕ НАЧАЛА ТРУДОВОГО ЗАКОНОДАТЕЛЬСТВА</td>\n      <td>Статья 1</td>\n      <td>Цели и задачи трудового законодательства</td>\n      <td>Целями трудового законодательства являются уст...</td>\n    </tr>\n    <tr>\n      <th>1</th>\n      <td>ЧАСТЬ ПЕРВАЯ</td>\n      <td>Раздел I</td>\n      <td>ОБЩИЕ ПОЛОЖЕНИЯ</td>\n      <td>Глава 1</td>\n      <td>ОСНОВНЫЕ НАЧАЛА ТРУДОВОГО ЗАКОНОДАТЕЛЬСТВА</td>\n      <td>Статья 2</td>\n      <td>Основные принципы правового регулирования труд...</td>\n      <td>Исходя из общепризнанных принципов и норм межд...</td>\n    </tr>\n    <tr>\n      <th>2</th>\n      <td>ЧАСТЬ ПЕРВАЯ</td>\n      <td>Раздел I</td>\n      <td>ОБЩИЕ ПОЛОЖЕНИЯ</td>\n      <td>Глава 1</td>\n      <td>ОСНОВНЫЕ НАЧАЛА ТРУДОВОГО ЗАКОНОДАТЕЛЬСТВА</td>\n      <td>Статья 3</td>\n      <td>Запрещение дискриминации в сфере труда</td>\n      <td>Каждый имеет равные возможности для реализации...</td>\n    </tr>\n    <tr>\n      <th>3</th>\n      <td>ЧАСТЬ ПЕРВАЯ</td>\n      <td>Раздел I</td>\n      <td>ОБЩИЕ ПОЛОЖЕНИЯ</td>\n      <td>Глава 1</td>\n      <td>ОСНОВНЫЕ НАЧАЛА ТРУДОВОГО ЗАКОНОДАТЕЛЬСТВА</td>\n      <td>Статья 4</td>\n      <td>Запрещение принудительного труда</td>\n      <td>Принудительный труд запрещен.\\r\\nПринудительны...</td>\n    </tr>\n    <tr>\n      <th>4</th>\n      <td>ЧАСТЬ ПЕРВАЯ</td>\n      <td>Раздел I</td>\n      <td>ОБЩИЕ ПОЛОЖЕНИЯ</td>\n      <td>Глава 1</td>\n      <td>ОСНОВНЫЕ НАЧАЛА ТРУДОВОГО ЗАКОНОДАТЕЛЬСТВА</td>\n      <td>Статья 5</td>\n      <td>Трудовое законодательство и иные акты, содержа...</td>\n      <td>(в ред. Федерального закона от 30.06.2006 N 90...</td>\n    </tr>\n    <tr>\n      <th>...</th>\n      <td>...</td>\n      <td>...</td>\n      <td>...</td>\n      <td>...</td>\n      <td>...</td>\n      <td>...</td>\n      <td>...</td>\n      <td>...</td>\n    </tr>\n    <tr>\n      <th>522</th>\n      <td>ЧАСТЬ ШЕСТАЯ</td>\n      <td>Раздел XIV</td>\n      <td>ЗАКЛЮЧИТЕЛЬНЫЕ ПОЛОЖЕНИЯ</td>\n      <td>Глава 62</td>\n      <td>ОТВЕТСТВЕННОСТЬ ЗА НАРУШЕНИЕ\\r\\nТРУДОВОГО ЗАКО...</td>\n      <td>Статья 420</td>\n      <td>Сроки введения в действие настоящего Кодекса</td>\n      <td>Настоящий Кодекс вводится в действие с 1 февра...</td>\n    </tr>\n    <tr>\n      <th>523</th>\n      <td>ЧАСТЬ ШЕСТАЯ</td>\n      <td>Раздел XIV</td>\n      <td>ЗАКЛЮЧИТЕЛЬНЫЕ ПОЛОЖЕНИЯ</td>\n      <td>Глава 62</td>\n      <td>ОТВЕТСТВЕННОСТЬ ЗА НАРУШЕНИЕ\\r\\nТРУДОВОГО ЗАКО...</td>\n      <td>Статья 421</td>\n      <td>Порядок и сроки введения минимального размера ...</td>\n      <td>(в ред. Федерального закона от 20.04.2007 N 54...</td>\n    </tr>\n    <tr>\n      <th>524</th>\n      <td>ЧАСТЬ ШЕСТАЯ</td>\n      <td>Раздел XIV</td>\n      <td>ЗАКЛЮЧИТЕЛЬНЫЕ ПОЛОЖЕНИЯ</td>\n      <td>Глава 62</td>\n      <td>ОТВЕТСТВЕННОСТЬ ЗА НАРУШЕНИЕ\\r\\nТРУДОВОГО ЗАКО...</td>\n      <td>Статья 422</td>\n      <td>Признание утратившими силу отдельных законодат...</td>\n      <td>Признать утратившими силу с 1 февраля 2002 год...</td>\n    </tr>\n    <tr>\n      <th>525</th>\n      <td>ЧАСТЬ ШЕСТАЯ</td>\n      <td>Раздел XIV</td>\n      <td>ЗАКЛЮЧИТЕЛЬНЫЕ ПОЛОЖЕНИЯ</td>\n      <td>Глава 62</td>\n      <td>ОТВЕТСТВЕННОСТЬ ЗА НАРУШЕНИЕ\\r\\nТРУДОВОГО ЗАКО...</td>\n      <td>Статья 423</td>\n      <td>Применение законов и иных нормативных правовых...</td>\n      <td>Впредь до приведения законов и иных нормативны...</td>\n    </tr>\n    <tr>\n      <th>526</th>\n      <td>ЧАСТЬ ШЕСТАЯ</td>\n      <td>Раздел XIV</td>\n      <td>ЗАКЛЮЧИТЕЛЬНЫЕ ПОЛОЖЕНИЯ</td>\n      <td>Глава 62</td>\n      <td>ОТВЕТСТВЕННОСТЬ ЗА НАРУШЕНИЕ\\r\\nТРУДОВОГО ЗАКО...</td>\n      <td>Статья 424</td>\n      <td>Применение настоящего Кодекса к правоотношения...</td>\n      <td>Настоящий Кодекс применяется к правоотношениям...</td>\n    </tr>\n  </tbody>\n</table>\n<p>527 rows × 8 columns</p>\n</div>"
     },
     "execution_count": 42,
     "metadata": {},
     "output_type": "execute_result"
    }
   ],
   "source": [
    "df.head(10)"
   ],
   "metadata": {
    "collapsed": false
   }
  },
  {
   "cell_type": "code",
   "execution_count": 43,
   "outputs": [
    {
     "data": {
      "text/plain": "               party section_number  \\\n6       ЧАСТЬ ПЕРВАЯ       Раздел I   \n99      ЧАСТЬ ТРЕТЬЯ     Раздел III   \n112     ЧАСТЬ ТРЕТЬЯ      Раздел IV   \n192     ЧАСТЬ ТРЕТЬЯ     Раздел VII   \n446  ЧАСТЬ ЧЕТВЕРТАЯ     Раздел XII   \n461      ЧАСТЬ ПЯТАЯ    Раздел XIII   \n\n                                          section_text chapter_number  \\\n6                                      ОБЩИЕ ПОЛОЖЕНИЯ        Глава 1   \n99                                    ТРУДОВОЙ ДОГОВОР       Глава 14   \n112                                      РАБОЧЕЕ ВРЕМЯ       Глава 15   \n192                             ГАРАНТИИ И КОМПЕНСАЦИИ       Глава 26   \n446  ОСОБЕННОСТИ РЕГУЛИРОВАНИЯ ТРУДА\\r\\nОТДЕЛЬНЫХ К...       Глава 55   \n461  ЗАЩИТА ТРУДОВЫХ ПРАВ И СВОБОД.\\r\\nРАССМОТРЕНИЕ...       Глава 57   \n\n                                          chapter_text article_number  \\\n6           ОСНОВНЫЕ НАЧАЛА ТРУДОВОГО ЗАКОНОДАТЕЛЬСТВА       Статья 7   \n99                ЗАЩИТА ПЕРСОНАЛЬНЫХ ДАННЫХ РАБОТНИКА      Статья 85   \n112                                    ОБЩИЕ ПОЛОЖЕНИЯ      Статья 98   \n192  ГАРАНТИИ И КОМПЕНСАЦИИ РАБОТНИКАМ,\\r\\nСОВМЕЩАЮ...     Статья 175   \n446  ОСОБЕННОСТИ РЕГУЛИРОВАНИЯ ТРУДА\\r\\nДРУГИХ КАТЕ...   Статья 351.2   \n461  ФЕДЕРАЛЬНЫЙ ГОСУДАРСТВЕННЫЙ КОНТРОЛЬ (НАДЗОР)\\...     Статья 360   \n\n                                          article_text text  \n6    Утратила силу. - Федеральный закон от 30.06.20...       \n99   Утратила силу. - Федеральный закон от 07.05.20...       \n112  Утратила силу. - Федеральный закон от 30.06.20...       \n192  Утратила силу с 1 сентября 2013 года. - Федера...       \n446  Утратила силу с 1 января 2019 года. - Федераль...       \n461  Утратила силу с 1 июля 2021 года. - Федеральны...       ",
      "text/html": "<div>\n<style scoped>\n    .dataframe tbody tr th:only-of-type {\n        vertical-align: middle;\n    }\n\n    .dataframe tbody tr th {\n        vertical-align: top;\n    }\n\n    .dataframe thead th {\n        text-align: right;\n    }\n</style>\n<table border=\"1\" class=\"dataframe\">\n  <thead>\n    <tr style=\"text-align: right;\">\n      <th></th>\n      <th>party</th>\n      <th>section_number</th>\n      <th>section_text</th>\n      <th>chapter_number</th>\n      <th>chapter_text</th>\n      <th>article_number</th>\n      <th>article_text</th>\n      <th>text</th>\n    </tr>\n  </thead>\n  <tbody>\n    <tr>\n      <th>6</th>\n      <td>ЧАСТЬ ПЕРВАЯ</td>\n      <td>Раздел I</td>\n      <td>ОБЩИЕ ПОЛОЖЕНИЯ</td>\n      <td>Глава 1</td>\n      <td>ОСНОВНЫЕ НАЧАЛА ТРУДОВОГО ЗАКОНОДАТЕЛЬСТВА</td>\n      <td>Статья 7</td>\n      <td>Утратила силу. - Федеральный закон от 30.06.20...</td>\n      <td></td>\n    </tr>\n    <tr>\n      <th>99</th>\n      <td>ЧАСТЬ ТРЕТЬЯ</td>\n      <td>Раздел III</td>\n      <td>ТРУДОВОЙ ДОГОВОР</td>\n      <td>Глава 14</td>\n      <td>ЗАЩИТА ПЕРСОНАЛЬНЫХ ДАННЫХ РАБОТНИКА</td>\n      <td>Статья 85</td>\n      <td>Утратила силу. - Федеральный закон от 07.05.20...</td>\n      <td></td>\n    </tr>\n    <tr>\n      <th>112</th>\n      <td>ЧАСТЬ ТРЕТЬЯ</td>\n      <td>Раздел IV</td>\n      <td>РАБОЧЕЕ ВРЕМЯ</td>\n      <td>Глава 15</td>\n      <td>ОБЩИЕ ПОЛОЖЕНИЯ</td>\n      <td>Статья 98</td>\n      <td>Утратила силу. - Федеральный закон от 30.06.20...</td>\n      <td></td>\n    </tr>\n    <tr>\n      <th>192</th>\n      <td>ЧАСТЬ ТРЕТЬЯ</td>\n      <td>Раздел VII</td>\n      <td>ГАРАНТИИ И КОМПЕНСАЦИИ</td>\n      <td>Глава 26</td>\n      <td>ГАРАНТИИ И КОМПЕНСАЦИИ РАБОТНИКАМ,\\r\\nСОВМЕЩАЮ...</td>\n      <td>Статья 175</td>\n      <td>Утратила силу с 1 сентября 2013 года. - Федера...</td>\n      <td></td>\n    </tr>\n    <tr>\n      <th>446</th>\n      <td>ЧАСТЬ ЧЕТВЕРТАЯ</td>\n      <td>Раздел XII</td>\n      <td>ОСОБЕННОСТИ РЕГУЛИРОВАНИЯ ТРУДА\\r\\nОТДЕЛЬНЫХ К...</td>\n      <td>Глава 55</td>\n      <td>ОСОБЕННОСТИ РЕГУЛИРОВАНИЯ ТРУДА\\r\\nДРУГИХ КАТЕ...</td>\n      <td>Статья 351.2</td>\n      <td>Утратила силу с 1 января 2019 года. - Федераль...</td>\n      <td></td>\n    </tr>\n    <tr>\n      <th>461</th>\n      <td>ЧАСТЬ ПЯТАЯ</td>\n      <td>Раздел XIII</td>\n      <td>ЗАЩИТА ТРУДОВЫХ ПРАВ И СВОБОД.\\r\\nРАССМОТРЕНИЕ...</td>\n      <td>Глава 57</td>\n      <td>ФЕДЕРАЛЬНЫЙ ГОСУДАРСТВЕННЫЙ КОНТРОЛЬ (НАДЗОР)\\...</td>\n      <td>Статья 360</td>\n      <td>Утратила силу с 1 июля 2021 года. - Федеральны...</td>\n      <td></td>\n    </tr>\n  </tbody>\n</table>\n</div>"
     },
     "execution_count": 43,
     "metadata": {},
     "output_type": "execute_result"
    }
   ],
   "source": [
    "df[df['text'].duplicated(keep=False)]"
   ],
   "metadata": {
    "collapsed": false
   }
  },
  {
   "cell_type": "code",
   "execution_count": 44,
   "outputs": [
    {
     "ename": "PermissionError",
     "evalue": "[Errno 13] Permission denied: 'Трудовой кодекс.xlsx'",
     "output_type": "error",
     "traceback": [
      "\u001B[1;31m---------------------------------------------------------------------------\u001B[0m",
      "\u001B[1;31mPermissionError\u001B[0m                           Traceback (most recent call last)",
      "Cell \u001B[1;32mIn [44], line 1\u001B[0m\n\u001B[1;32m----> 1\u001B[0m \u001B[38;5;28;01mwith\u001B[39;00m \u001B[43mpd\u001B[49m\u001B[38;5;241;43m.\u001B[39;49m\u001B[43mExcelWriter\u001B[49m\u001B[43m(\u001B[49m\u001B[38;5;124;43m\"\u001B[39;49m\u001B[38;5;124;43mТрудовой кодекс.xlsx\u001B[39;49m\u001B[38;5;124;43m\"\u001B[39;49m\u001B[43m,\u001B[49m\u001B[43m \u001B[49m\u001B[43mengine\u001B[49m\u001B[38;5;241;43m=\u001B[39;49m\u001B[38;5;124;43m\"\u001B[39;49m\u001B[38;5;124;43mopenpyxl\u001B[39;49m\u001B[38;5;124;43m\"\u001B[39;49m\u001B[43m)\u001B[49m \u001B[38;5;28;01mas\u001B[39;00m writer:\n\u001B[0;32m      2\u001B[0m     df[\u001B[38;5;241m~\u001B[39mdf[\u001B[38;5;124m'\u001B[39m\u001B[38;5;124mtext\u001B[39m\u001B[38;5;124m'\u001B[39m]\u001B[38;5;241m.\u001B[39mduplicated(keep\u001B[38;5;241m=\u001B[39m\u001B[38;5;28;01mFalse\u001B[39;00m)]\u001B[38;5;241m.\u001B[39mto_excel(writer, \u001B[38;5;124m'\u001B[39m\u001B[38;5;124mmain\u001B[39m\u001B[38;5;124m'\u001B[39m, engine\u001B[38;5;241m=\u001B[39m\u001B[38;5;124m'\u001B[39m\u001B[38;5;124mxlsxwriter\u001B[39m\u001B[38;5;124m'\u001B[39m, index\u001B[38;5;241m=\u001B[39m\u001B[38;5;28;01mFalse\u001B[39;00m)\n\u001B[0;32m      3\u001B[0m     sheets_good \u001B[38;5;241m=\u001B[39m writer\u001B[38;5;241m.\u001B[39msheets[\u001B[38;5;124m'\u001B[39m\u001B[38;5;124mmain\u001B[39m\u001B[38;5;124m'\u001B[39m]\n",
      "File \u001B[1;32mC:\\Project\\labor_code\\venv\\lib\\site-packages\\pandas\\io\\excel\\_openpyxl.py:60\u001B[0m, in \u001B[0;36mOpenpyxlWriter.__init__\u001B[1;34m(self, path, engine, date_format, datetime_format, mode, storage_options, if_sheet_exists, engine_kwargs, **kwargs)\u001B[0m\n\u001B[0;32m     56\u001B[0m \u001B[38;5;28;01mfrom\u001B[39;00m \u001B[38;5;21;01mopenpyxl\u001B[39;00m\u001B[38;5;21;01m.\u001B[39;00m\u001B[38;5;21;01mworkbook\u001B[39;00m \u001B[38;5;28;01mimport\u001B[39;00m Workbook\n\u001B[0;32m     58\u001B[0m engine_kwargs \u001B[38;5;241m=\u001B[39m combine_kwargs(engine_kwargs, kwargs)\n\u001B[1;32m---> 60\u001B[0m \u001B[38;5;28;43msuper\u001B[39;49m\u001B[43m(\u001B[49m\u001B[43m)\u001B[49m\u001B[38;5;241;43m.\u001B[39;49m\u001B[38;5;21;43m__init__\u001B[39;49m\u001B[43m(\u001B[49m\n\u001B[0;32m     61\u001B[0m \u001B[43m    \u001B[49m\u001B[43mpath\u001B[49m\u001B[43m,\u001B[49m\n\u001B[0;32m     62\u001B[0m \u001B[43m    \u001B[49m\u001B[43mmode\u001B[49m\u001B[38;5;241;43m=\u001B[39;49m\u001B[43mmode\u001B[49m\u001B[43m,\u001B[49m\n\u001B[0;32m     63\u001B[0m \u001B[43m    \u001B[49m\u001B[43mstorage_options\u001B[49m\u001B[38;5;241;43m=\u001B[39;49m\u001B[43mstorage_options\u001B[49m\u001B[43m,\u001B[49m\n\u001B[0;32m     64\u001B[0m \u001B[43m    \u001B[49m\u001B[43mif_sheet_exists\u001B[49m\u001B[38;5;241;43m=\u001B[39;49m\u001B[43mif_sheet_exists\u001B[49m\u001B[43m,\u001B[49m\n\u001B[0;32m     65\u001B[0m \u001B[43m    \u001B[49m\u001B[43mengine_kwargs\u001B[49m\u001B[38;5;241;43m=\u001B[39;49m\u001B[43mengine_kwargs\u001B[49m\u001B[43m,\u001B[49m\n\u001B[0;32m     66\u001B[0m \u001B[43m\u001B[49m\u001B[43m)\u001B[49m\n\u001B[0;32m     68\u001B[0m \u001B[38;5;66;03m# ExcelWriter replaced \"a\" by \"r+\" to allow us to first read the excel file from\u001B[39;00m\n\u001B[0;32m     69\u001B[0m \u001B[38;5;66;03m# the file and later write to it\u001B[39;00m\n\u001B[0;32m     70\u001B[0m \u001B[38;5;28;01mif\u001B[39;00m \u001B[38;5;124m\"\u001B[39m\u001B[38;5;124mr+\u001B[39m\u001B[38;5;124m\"\u001B[39m \u001B[38;5;129;01min\u001B[39;00m \u001B[38;5;28mself\u001B[39m\u001B[38;5;241m.\u001B[39m_mode:  \u001B[38;5;66;03m# Load from existing workbook\u001B[39;00m\n",
      "File \u001B[1;32mC:\\Project\\labor_code\\venv\\lib\\site-packages\\pandas\\io\\excel\\_base.py:1313\u001B[0m, in \u001B[0;36mExcelWriter.__init__\u001B[1;34m(self, path, engine, date_format, datetime_format, mode, storage_options, if_sheet_exists, engine_kwargs, **kwargs)\u001B[0m\n\u001B[0;32m   1309\u001B[0m \u001B[38;5;28mself\u001B[39m\u001B[38;5;241m.\u001B[39m_handles \u001B[38;5;241m=\u001B[39m IOHandles(\n\u001B[0;32m   1310\u001B[0m     cast(IO[\u001B[38;5;28mbytes\u001B[39m], path), compression\u001B[38;5;241m=\u001B[39m{\u001B[38;5;124m\"\u001B[39m\u001B[38;5;124mcompression\u001B[39m\u001B[38;5;124m\"\u001B[39m: \u001B[38;5;28;01mNone\u001B[39;00m}\n\u001B[0;32m   1311\u001B[0m )\n\u001B[0;32m   1312\u001B[0m \u001B[38;5;28;01mif\u001B[39;00m \u001B[38;5;129;01mnot\u001B[39;00m \u001B[38;5;28misinstance\u001B[39m(path, ExcelWriter):\n\u001B[1;32m-> 1313\u001B[0m     \u001B[38;5;28mself\u001B[39m\u001B[38;5;241m.\u001B[39m_handles \u001B[38;5;241m=\u001B[39m \u001B[43mget_handle\u001B[49m\u001B[43m(\u001B[49m\n\u001B[0;32m   1314\u001B[0m \u001B[43m        \u001B[49m\u001B[43mpath\u001B[49m\u001B[43m,\u001B[49m\u001B[43m \u001B[49m\u001B[43mmode\u001B[49m\u001B[43m,\u001B[49m\u001B[43m \u001B[49m\u001B[43mstorage_options\u001B[49m\u001B[38;5;241;43m=\u001B[39;49m\u001B[43mstorage_options\u001B[49m\u001B[43m,\u001B[49m\u001B[43m \u001B[49m\u001B[43mis_text\u001B[49m\u001B[38;5;241;43m=\u001B[39;49m\u001B[38;5;28;43;01mFalse\u001B[39;49;00m\n\u001B[0;32m   1315\u001B[0m \u001B[43m    \u001B[49m\u001B[43m)\u001B[49m\n\u001B[0;32m   1316\u001B[0m \u001B[38;5;28mself\u001B[39m\u001B[38;5;241m.\u001B[39m_cur_sheet \u001B[38;5;241m=\u001B[39m \u001B[38;5;28;01mNone\u001B[39;00m\n\u001B[0;32m   1318\u001B[0m \u001B[38;5;28;01mif\u001B[39;00m date_format \u001B[38;5;129;01mis\u001B[39;00m \u001B[38;5;28;01mNone\u001B[39;00m:\n",
      "File \u001B[1;32mC:\\Project\\labor_code\\venv\\lib\\site-packages\\pandas\\io\\common.py:865\u001B[0m, in \u001B[0;36mget_handle\u001B[1;34m(path_or_buf, mode, encoding, compression, memory_map, is_text, errors, storage_options)\u001B[0m\n\u001B[0;32m    856\u001B[0m         handle \u001B[38;5;241m=\u001B[39m \u001B[38;5;28mopen\u001B[39m(\n\u001B[0;32m    857\u001B[0m             handle,\n\u001B[0;32m    858\u001B[0m             ioargs\u001B[38;5;241m.\u001B[39mmode,\n\u001B[1;32m   (...)\u001B[0m\n\u001B[0;32m    861\u001B[0m             newline\u001B[38;5;241m=\u001B[39m\u001B[38;5;124m\"\u001B[39m\u001B[38;5;124m\"\u001B[39m,\n\u001B[0;32m    862\u001B[0m         )\n\u001B[0;32m    863\u001B[0m     \u001B[38;5;28;01melse\u001B[39;00m:\n\u001B[0;32m    864\u001B[0m         \u001B[38;5;66;03m# Binary mode\u001B[39;00m\n\u001B[1;32m--> 865\u001B[0m         handle \u001B[38;5;241m=\u001B[39m \u001B[38;5;28;43mopen\u001B[39;49m\u001B[43m(\u001B[49m\u001B[43mhandle\u001B[49m\u001B[43m,\u001B[49m\u001B[43m \u001B[49m\u001B[43mioargs\u001B[49m\u001B[38;5;241;43m.\u001B[39;49m\u001B[43mmode\u001B[49m\u001B[43m)\u001B[49m\n\u001B[0;32m    866\u001B[0m     handles\u001B[38;5;241m.\u001B[39mappend(handle)\n\u001B[0;32m    868\u001B[0m \u001B[38;5;66;03m# Convert BytesIO or file objects passed with an encoding\u001B[39;00m\n",
      "\u001B[1;31mPermissionError\u001B[0m: [Errno 13] Permission denied: 'Трудовой кодекс.xlsx'"
     ]
    }
   ],
   "source": [
    "with pd.ExcelWriter(\"Трудовой кодекс.xlsx\", engine=\"openpyxl\") as writer:\n",
    "    df[~df['text'].duplicated(keep=False)].to_excel(writer, 'main', engine='xlsxwriter', index=False)\n",
    "    sheets_good = writer.sheets['main']\n",
    "    # sheets_good.autofilter(0, 0, df.shape[0], df.shape[1])\n",
    "    sheets_good.auto_filter.ref = sheets_good.dimensions\n",
    "\n",
    "    logging.info(\"\\nФайл создан\")"
   ],
   "metadata": {
    "collapsed": false
   }
  }
 ],
 "metadata": {
  "kernelspec": {
   "display_name": "Python 3",
   "language": "python",
   "name": "python3"
  },
  "language_info": {
   "codemirror_mode": {
    "name": "ipython",
    "version": 2
   },
   "file_extension": ".py",
   "mimetype": "text/x-python",
   "name": "python",
   "nbconvert_exporter": "python",
   "pygments_lexer": "ipython2",
   "version": "2.7.6"
  }
 },
 "nbformat": 4,
 "nbformat_minor": 0
}
