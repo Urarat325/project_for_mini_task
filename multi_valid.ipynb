{
 "cells": [
  {
   "cell_type": "markdown",
   "source": [
    "# Imports"
   ],
   "metadata": {
    "collapsed": false
   }
  },
  {
   "cell_type": "code",
   "execution_count": 71,
   "metadata": {
    "collapsed": true
   },
   "outputs": [],
   "source": [
    "import pandas as pd\n",
    "import re\n",
    "import numpy as np\n",
    "import glob\n",
    "import tensorflow_hub as hub\n",
    "import tensorflow_text as text"
   ]
  },
  {
   "cell_type": "markdown",
   "source": [
    "# Reading docs"
   ],
   "metadata": {
    "collapsed": false
   }
  },
  {
   "cell_type": "code",
   "execution_count": 72,
   "outputs": [],
   "source": [
    "def read_file(path, encoding, is_lower=False):\n",
    "    list_of_paragraph = []\n",
    "    buffer = []\n",
    "    with open(path, encoding=encoding) as file:\n",
    "        regex = re.compile(\n",
    "            r'(((?<!Статья )(?<!^)(?<!(\\.|\\s))(?<!     )[а-яА-Я\\d]{2,})([\\.]{0,1}[\\]\\)\\\"]{0,2}[\\.\\;\\:]{1}(\\s|$)))',\n",
    "            flags=re.IGNORECASE)\n",
    "        text = file.read()\n",
    "\n",
    "        if is_lower:\n",
    "            text = text.lower()\n",
    "        offset = 0\n",
    "        buf = ''\n",
    "        for ind, value in enumerate(regex.split(text, maxsplit=0)):\n",
    "            if ind == 0 + offset:\n",
    "                buf = value\n",
    "            if ind == 1 + offset:\n",
    "                list_of_paragraph.append((buf + value).strip())\n",
    "                offset += 6\n",
    "\n",
    "        second_regex = re.compile(r'([^\\dгст][\\.\\;\\:](?=\\s|$))', flags=re.IGNORECASE)\n",
    "\n",
    "        for value1 in list_of_paragraph:\n",
    "            buf = ''\n",
    "            for value in second_regex.split(value1, maxsplit=0):\n",
    "                if value == '':\n",
    "                    continue\n",
    "\n",
    "                if len(value) > 2 and buf != '':\n",
    "                    buffer.append(buf.strip())\n",
    "                    buf = value\n",
    "                elif len(value) > 2:\n",
    "                    buf = value\n",
    "                elif len(value) <= 2:\n",
    "                    buffer.append((buf + value).strip())\n",
    "                    buf = ''\n",
    "    return buffer"
   ],
   "metadata": {
    "collapsed": false
   }
  },
  {
   "cell_type": "markdown",
   "source": [
    "### Getting file paths"
   ],
   "metadata": {
    "collapsed": false
   }
  },
  {
   "cell_type": "code",
   "execution_count": 73,
   "outputs": [],
   "source": [
    "list_of_path = list(filter(lambda x: not '1ДИ' in str(x), glob.glob(\"docs/*/*.txt\")))\n",
    "list_of_path\n",
    "\n",
    "list_of_instruction_paths = list(filter(lambda x: str(x).startswith('docs\\\\Список ДИ'), list_of_path))\n",
    "list_of_external_doc_paths = list(filter(lambda x: str(x).startswith('docs\\\\Список внешних'), list_of_path))"
   ],
   "metadata": {
    "collapsed": false
   }
  },
  {
   "cell_type": "markdown",
   "source": [
    "### Preparation of sentences"
   ],
   "metadata": {
    "collapsed": false
   }
  },
  {
   "cell_type": "code",
   "execution_count": 74,
   "outputs": [],
   "source": [
    "list_of_external_docs = []\n",
    "list_of_instructions = []\n",
    "\n",
    "in_lower_case = True\n",
    "\n",
    "for path_to_doc in list_of_instruction_paths:\n",
    "    buf_list = read_file(path_to_doc, 'windows-1251', in_lower_case)\n",
    "    buf_list = [x for x in buf_list if len(x) > 3]\n",
    "    list_of_instructions.append(buf_list)\n",
    "\n",
    "for path_to_doc in list_of_external_doc_paths:\n",
    "    buf_list = read_file(path_to_doc, 'windows-1251', in_lower_case)\n",
    "    buf_list = [x for x in buf_list if len(x) > 3]\n",
    "    list_of_external_docs.append(buf_list)"
   ],
   "metadata": {
    "collapsed": false
   }
  },
  {
   "cell_type": "markdown",
   "source": [
    "## Preparing the embeddings"
   ],
   "metadata": {
    "collapsed": false
   }
  },
  {
   "cell_type": "markdown",
   "source": [
    "### Download model"
   ],
   "metadata": {
    "collapsed": false
   }
  },
  {
   "cell_type": "code",
   "execution_count": 75,
   "outputs": [],
   "source": [
    "embed = hub.load(\"https://tfhub.dev/google/universal-sentence-encoder-multilingual-large/3\")"
   ],
   "metadata": {
    "collapsed": false
   }
  },
  {
   "cell_type": "markdown",
   "source": [
    "### Getting embeddings from instructions"
   ],
   "metadata": {
    "collapsed": false
   }
  },
  {
   "cell_type": "code",
   "execution_count": 76,
   "outputs": [
    {
     "name": "stdout",
     "output_type": "stream",
     "text": [
      "CPU times: total: 16.3 s\n",
      "Wall time: 13.7 s\n"
     ]
    }
   ],
   "source": [
    "%%time\n",
    "BATCH_SIZE = 64\n",
    "list_of_instruction_embeddings = []\n",
    "\n",
    "for doc in list_of_instructions:\n",
    "    buffer = np.empty((0, 512), float)\n",
    "    for i in range(0, len(doc), BATCH_SIZE):\n",
    "        batch = doc[i:i + BATCH_SIZE]\n",
    "        buffer = np.concatenate((buffer, embed(batch)), axis=0)\n",
    "        # buffer = np.concatenate((buffer, model.encode(batch)), axis=0)\n",
    "\n",
    "    list_of_instruction_embeddings.append(buffer)"
   ],
   "metadata": {
    "collapsed": false
   }
  },
  {
   "cell_type": "markdown",
   "source": [
    "### Getting embeddings from external docs"
   ],
   "metadata": {
    "collapsed": false
   }
  },
  {
   "cell_type": "code",
   "execution_count": 77,
   "outputs": [
    {
     "name": "stdout",
     "output_type": "stream",
     "text": [
      "CPU times: total: 15 s\n",
      "Wall time: 12.4 s\n"
     ]
    }
   ],
   "source": [
    "%%time\n",
    "BATCH_SIZE = 64\n",
    "list_of_embeddings_of_external_docs = []\n",
    "\n",
    "for doc in list_of_external_docs:\n",
    "    buffer = np.empty((0, 512), float)\n",
    "    for i in range(0, len(doc), BATCH_SIZE):\n",
    "        batch = doc[i:i + BATCH_SIZE]\n",
    "        buffer = np.concatenate((buffer, embed(batch)), axis=0)\n",
    "        # buffer = np.concatenate((buffer, model.encode(batch)), axis=0)\n",
    "\n",
    "    list_of_embeddings_of_external_docs.append(buffer)"
   ],
   "metadata": {
    "collapsed": false
   }
  },
  {
   "cell_type": "markdown",
   "source": [
    "### Computing similarity matrix"
   ],
   "metadata": {
    "collapsed": false
   }
  },
  {
   "cell_type": "code",
   "execution_count": 90,
   "outputs": [],
   "source": [
    "list_for_df = []\n",
    "\n",
    "for index, doc1 in enumerate(list_of_instruction_embeddings):\n",
    "    buffer = {\n",
    "        'instruction_filename': list_of_instruction_paths[index]\n",
    "    }\n",
    "    for ind, doc2 in enumerate(list_of_embeddings_of_external_docs):\n",
    "        buffer['external_doc_filename'] = list_of_external_doc_paths[ind]\n",
    "        similarity_matrix = np.inner(doc1, doc2)\n",
    "        for i, row in enumerate(similarity_matrix):\n",
    "            buffer['sentence_number_from_instruction'] = i\n",
    "            buffer['sentence_number_from_external_doc'] = int(np.argmax(row))\n",
    "            buffer['value'] = np.max(row)\n",
    "            buffer['text_of_instruction'] = list_of_instructions[index][i]\n",
    "            buffer['text_of_external_doc'] = list_of_external_docs[ind][int(np.argmax(row))]\n",
    "            list_for_df.append(buffer.copy())"
   ],
   "metadata": {
    "collapsed": false
   }
  },
  {
   "cell_type": "markdown",
   "source": [
    "## Creating dataframe"
   ],
   "metadata": {
    "collapsed": false
   }
  },
  {
   "cell_type": "code",
   "execution_count": 94,
   "outputs": [],
   "source": [
    "new_df = pd.DataFrame(\n",
    "    columns=[\n",
    "        'sentence_number_from_instruction',\n",
    "        'sentence_number_from_external_doc',\n",
    "        'value',\n",
    "        'text_of_instruction',\n",
    "        'instruction_filename',\n",
    "        'text_of_external_doc',\n",
    "        'external_doc_filename'\n",
    "    ])"
   ],
   "metadata": {
    "collapsed": false
   }
  },
  {
   "cell_type": "code",
   "execution_count": 95,
   "outputs": [],
   "source": [
    "for index, row in enumerate(list_for_df):\n",
    "    new_df.loc[index] = [\n",
    "        row['sentence_number_from_instruction'],\n",
    "        row['sentence_number_from_external_doc'],\n",
    "        row['value'],\n",
    "        row['text_of_instruction'],\n",
    "        row['instruction_filename'],\n",
    "        row['text_of_external_doc'],\n",
    "        row['external_doc_filename'],\n",
    "    ]"
   ],
   "metadata": {
    "collapsed": false
   }
  },
  {
   "cell_type": "code",
   "execution_count": 96,
   "outputs": [
    {
     "data": {
      "text/plain": "       sentence_number_from_instruction  sentence_number_from_external_doc  \\\n0                                     0                                  5   \n1                                     1                                165   \n2                                     2                                  7   \n3                                     3                                 51   \n4                                     4                                 20   \n...                                 ...                                ...   \n85567                                88                                114   \n85568                                89                                 92   \n85569                                90                                 70   \n85570                                91                                138   \n85571                                92                                 47   \n\n          value                                text_of_instruction  \\\n0      0.440365  общие положения\\n  1.1.  на должность дефектос...   \n1      0.375417  правил ростехнадзора, а также прошедших специа...   \n2      0.365666  1.2.  один раз в з года дефектоскопист сдает к...   \n3      0.430704  1.3.  дефектоскописты принимаются на работу ди...   \n4      0.387139  прием на работу и увольнение производится в со...   \n...         ...                                                ...   \n85567  0.279474  6.1. за неисполнение всех возложенных на него ...   \n85568  0.293590  6.2. за нарушения требования птэ, птб, ппб, др...   \n85569  0.360748  6.3. за невыполнение законодательных актов, пр...   \n85570  0.312496      6.4. за несоблюдение противопожарного режима.   \n85571  0.146087  начальник ттц\\t\\t\\t\\t\\t\\t\\t      \\t           ...   \n\n                                   instruction_filename  \\\n0      docs\\Список ДИ Юре 18.01.2023\\ДИ  деф-та УЗК.txt   \n1      docs\\Список ДИ Юре 18.01.2023\\ДИ  деф-та УЗК.txt   \n2      docs\\Список ДИ Юре 18.01.2023\\ДИ  деф-та УЗК.txt   \n3      docs\\Список ДИ Юре 18.01.2023\\ДИ  деф-та УЗК.txt   \n4      docs\\Список ДИ Юре 18.01.2023\\ДИ  деф-та УЗК.txt   \n...                                                 ...   \n85567   docs\\Список ДИ Юре 18.01.2023\\ДИ_Техник ТТЦ.txt   \n85568   docs\\Список ДИ Юре 18.01.2023\\ДИ_Техник ТТЦ.txt   \n85569   docs\\Список ДИ Юре 18.01.2023\\ДИ_Техник ТТЦ.txt   \n85570   docs\\Список ДИ Юре 18.01.2023\\ДИ_Техник ТТЦ.txt   \n85571   docs\\Список ДИ Юре 18.01.2023\\ДИ_Техник ТТЦ.txt   \n\n                                    text_of_external_doc  \\\n0      1.5. к проведению сварочных и других огневых р...   \n1      проверка знаний других специальных правил и ин...   \n2      1.6. персоналу, успешно прошедшему обучение и ...   \n3      3.4. наряд выдается с назначением ответственно...   \n4      к работнику, грубо нарушившему правила проведе...   \n...                                                  ...   \n85567  6. правительство российской федерации вправе у...   \n85568  5. право собственности и иные вещные права на ...   \n85569          3) иная установленная законом информация.   \n85570  6) постоянный контроль за обеспечением уровня ...   \n85571  4. обладатель информации при осуществлении сво...   \n\n                                   external_doc_filename  \n0      docs\\Список внешних документов 18.01.2023\\Инст...  \n1      docs\\Список внешних документов 18.01.2023\\Инст...  \n2      docs\\Список внешних документов 18.01.2023\\Инст...  \n3      docs\\Список внешних документов 18.01.2023\\Инст...  \n4      docs\\Список внешних документов 18.01.2023\\Инст...  \n...                                                  ...  \n85567  docs\\Список внешних документов 18.01.2023\\Феде...  \n85568  docs\\Список внешних документов 18.01.2023\\Феде...  \n85569  docs\\Список внешних документов 18.01.2023\\Феде...  \n85570  docs\\Список внешних документов 18.01.2023\\Феде...  \n85571  docs\\Список внешних документов 18.01.2023\\Феде...  \n\n[85572 rows x 7 columns]",
      "text/html": "<div>\n<style scoped>\n    .dataframe tbody tr th:only-of-type {\n        vertical-align: middle;\n    }\n\n    .dataframe tbody tr th {\n        vertical-align: top;\n    }\n\n    .dataframe thead th {\n        text-align: right;\n    }\n</style>\n<table border=\"1\" class=\"dataframe\">\n  <thead>\n    <tr style=\"text-align: right;\">\n      <th></th>\n      <th>sentence_number_from_instruction</th>\n      <th>sentence_number_from_external_doc</th>\n      <th>value</th>\n      <th>text_of_instruction</th>\n      <th>instruction_filename</th>\n      <th>text_of_external_doc</th>\n      <th>external_doc_filename</th>\n    </tr>\n  </thead>\n  <tbody>\n    <tr>\n      <th>0</th>\n      <td>0</td>\n      <td>5</td>\n      <td>0.440365</td>\n      <td>общие положения\\n  1.1.  на должность дефектос...</td>\n      <td>docs\\Список ДИ Юре 18.01.2023\\ДИ  деф-та УЗК.txt</td>\n      <td>1.5. к проведению сварочных и других огневых р...</td>\n      <td>docs\\Список внешних документов 18.01.2023\\Инст...</td>\n    </tr>\n    <tr>\n      <th>1</th>\n      <td>1</td>\n      <td>165</td>\n      <td>0.375417</td>\n      <td>правил ростехнадзора, а также прошедших специа...</td>\n      <td>docs\\Список ДИ Юре 18.01.2023\\ДИ  деф-та УЗК.txt</td>\n      <td>проверка знаний других специальных правил и ин...</td>\n      <td>docs\\Список внешних документов 18.01.2023\\Инст...</td>\n    </tr>\n    <tr>\n      <th>2</th>\n      <td>2</td>\n      <td>7</td>\n      <td>0.365666</td>\n      <td>1.2.  один раз в з года дефектоскопист сдает к...</td>\n      <td>docs\\Список ДИ Юре 18.01.2023\\ДИ  деф-та УЗК.txt</td>\n      <td>1.6. персоналу, успешно прошедшему обучение и ...</td>\n      <td>docs\\Список внешних документов 18.01.2023\\Инст...</td>\n    </tr>\n    <tr>\n      <th>3</th>\n      <td>3</td>\n      <td>51</td>\n      <td>0.430704</td>\n      <td>1.3.  дефектоскописты принимаются на работу ди...</td>\n      <td>docs\\Список ДИ Юре 18.01.2023\\ДИ  деф-та УЗК.txt</td>\n      <td>3.4. наряд выдается с назначением ответственно...</td>\n      <td>docs\\Список внешних документов 18.01.2023\\Инст...</td>\n    </tr>\n    <tr>\n      <th>4</th>\n      <td>4</td>\n      <td>20</td>\n      <td>0.387139</td>\n      <td>прием на работу и увольнение производится в со...</td>\n      <td>docs\\Список ДИ Юре 18.01.2023\\ДИ  деф-та УЗК.txt</td>\n      <td>к работнику, грубо нарушившему правила проведе...</td>\n      <td>docs\\Список внешних документов 18.01.2023\\Инст...</td>\n    </tr>\n    <tr>\n      <th>...</th>\n      <td>...</td>\n      <td>...</td>\n      <td>...</td>\n      <td>...</td>\n      <td>...</td>\n      <td>...</td>\n      <td>...</td>\n    </tr>\n    <tr>\n      <th>85567</th>\n      <td>88</td>\n      <td>114</td>\n      <td>0.279474</td>\n      <td>6.1. за неисполнение всех возложенных на него ...</td>\n      <td>docs\\Список ДИ Юре 18.01.2023\\ДИ_Техник ТТЦ.txt</td>\n      <td>6. правительство российской федерации вправе у...</td>\n      <td>docs\\Список внешних документов 18.01.2023\\Феде...</td>\n    </tr>\n    <tr>\n      <th>85568</th>\n      <td>89</td>\n      <td>92</td>\n      <td>0.293590</td>\n      <td>6.2. за нарушения требования птэ, птб, ппб, др...</td>\n      <td>docs\\Список ДИ Юре 18.01.2023\\ДИ_Техник ТТЦ.txt</td>\n      <td>5. право собственности и иные вещные права на ...</td>\n      <td>docs\\Список внешних документов 18.01.2023\\Феде...</td>\n    </tr>\n    <tr>\n      <th>85569</th>\n      <td>90</td>\n      <td>70</td>\n      <td>0.360748</td>\n      <td>6.3. за невыполнение законодательных актов, пр...</td>\n      <td>docs\\Список ДИ Юре 18.01.2023\\ДИ_Техник ТТЦ.txt</td>\n      <td>3) иная установленная законом информация.</td>\n      <td>docs\\Список внешних документов 18.01.2023\\Феде...</td>\n    </tr>\n    <tr>\n      <th>85570</th>\n      <td>91</td>\n      <td>138</td>\n      <td>0.312496</td>\n      <td>6.4. за несоблюдение противопожарного режима.</td>\n      <td>docs\\Список ДИ Юре 18.01.2023\\ДИ_Техник ТТЦ.txt</td>\n      <td>6) постоянный контроль за обеспечением уровня ...</td>\n      <td>docs\\Список внешних документов 18.01.2023\\Феде...</td>\n    </tr>\n    <tr>\n      <th>85571</th>\n      <td>92</td>\n      <td>47</td>\n      <td>0.146087</td>\n      <td>начальник ттц\\t\\t\\t\\t\\t\\t\\t      \\t           ...</td>\n      <td>docs\\Список ДИ Юре 18.01.2023\\ДИ_Техник ТТЦ.txt</td>\n      <td>4. обладатель информации при осуществлении сво...</td>\n      <td>docs\\Список внешних документов 18.01.2023\\Феде...</td>\n    </tr>\n  </tbody>\n</table>\n<p>85572 rows × 7 columns</p>\n</div>"
     },
     "execution_count": 96,
     "metadata": {},
     "output_type": "execute_result"
    }
   ],
   "source": [
    "new_df"
   ],
   "metadata": {
    "collapsed": false
   }
  },
  {
   "cell_type": "code",
   "execution_count": 97,
   "outputs": [
    {
     "name": "stdout",
     "output_type": "stream",
     "text": [
      "\n",
      "Файл создан\n"
     ]
    }
   ],
   "source": [
    "with pd.ExcelWriter(\"embeddings.xlsx\", engine=\"xlsxwriter\") as writer:\n",
    "    new_df.to_excel(writer, 'good', engine='xlsxwriter')\n",
    "    sheets_good = writer.sheets['good']\n",
    "    sheets_good.autofilter(0, 0, new_df.shape[0], new_df.shape[1])\n",
    "\n",
    "    print(\"\\nФайл создан\")"
   ],
   "metadata": {
    "collapsed": false
   }
  }
 ],
 "metadata": {
  "kernelspec": {
   "display_name": "Python 3",
   "language": "python",
   "name": "python3"
  },
  "language_info": {
   "codemirror_mode": {
    "name": "ipython",
    "version": 2
   },
   "file_extension": ".py",
   "mimetype": "text/x-python",
   "name": "python",
   "nbconvert_exporter": "python",
   "pygments_lexer": "ipython2",
   "version": "2.7.6"
  }
 },
 "nbformat": 4,
 "nbformat_minor": 0
}
